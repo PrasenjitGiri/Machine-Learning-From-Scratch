{
 "cells": [
  {
   "cell_type": "markdown",
   "metadata": {
    "collapsed": true
   },
   "source": [
    "### Machine Learnign from Scratch is an attempt to explain the concepts of statistical algorithms via code\n",
    "#### This is only possible because of the brilliant statisitical video series on YouTube by Bradon's simple linear regression series \n",
    "##### https://www.youtube.com/watch?v=ZkjP5RJLQF4&list=PLIeGtxpvyG-LoKUpV0fSY8BGKIMIdmfCi"
   ]
  },
  {
   "cell_type": "code",
   "execution_count": null,
   "metadata": {},
   "outputs": [],
   "source": [
    "import warnings\n",
    "warnings.filterwarnings('ignore')\n",
    "import pandas as pd\n",
    "import matplotlib\n",
    "\n",
    "%matplotlib inline"
   ]
  },
  {
   "cell_type": "markdown",
   "metadata": {},
   "source": [
    "Let's assume, you went back and collected the actual bill amount."
   ]
  },
  {
   "cell_type": "code",
   "execution_count": 8,
   "metadata": {},
   "outputs": [
    {
     "data": {
      "text/html": [
       "<div>\n",
       "<style>\n",
       "    .dataframe thead tr:only-child th {\n",
       "        text-align: right;\n",
       "    }\n",
       "\n",
       "    .dataframe thead th {\n",
       "        text-align: left;\n",
       "    }\n",
       "\n",
       "    .dataframe tbody tr th {\n",
       "        vertical-align: top;\n",
       "    }\n",
       "</style>\n",
       "<table border=\"1\" class=\"dataframe\">\n",
       "  <thead>\n",
       "    <tr style=\"text-align: right;\">\n",
       "      <th></th>\n",
       "      <th>Bill</th>\n",
       "      <th>Tips</th>\n",
       "    </tr>\n",
       "    <tr>\n",
       "      <th>Meals</th>\n",
       "      <th></th>\n",
       "      <th></th>\n",
       "    </tr>\n",
       "  </thead>\n",
       "  <tbody>\n",
       "    <tr>\n",
       "      <th>1</th>\n",
       "      <td>250</td>\n",
       "      <td>20</td>\n",
       "    </tr>\n",
       "    <tr>\n",
       "      <th>2</th>\n",
       "      <td>150</td>\n",
       "      <td>10</td>\n",
       "    </tr>\n",
       "    <tr>\n",
       "      <th>3</th>\n",
       "      <td>500</td>\n",
       "      <td>50</td>\n",
       "    </tr>\n",
       "    <tr>\n",
       "      <th>4</th>\n",
       "      <td>890</td>\n",
       "      <td>60</td>\n",
       "    </tr>\n",
       "    <tr>\n",
       "      <th>5</th>\n",
       "      <td>1300</td>\n",
       "      <td>90</td>\n",
       "    </tr>\n",
       "    <tr>\n",
       "      <th>6</th>\n",
       "      <td>300</td>\n",
       "      <td>20</td>\n",
       "    </tr>\n",
       "    <tr>\n",
       "      <th>7</th>\n",
       "      <td>900</td>\n",
       "      <td>30</td>\n",
       "    </tr>\n",
       "    <tr>\n",
       "      <th>8</th>\n",
       "      <td>700</td>\n",
       "      <td>15</td>\n",
       "    </tr>\n",
       "    <tr>\n",
       "      <th>9</th>\n",
       "      <td>1000</td>\n",
       "      <td>75</td>\n",
       "    </tr>\n",
       "    <tr>\n",
       "      <th>10</th>\n",
       "      <td>650</td>\n",
       "      <td>35</td>\n",
       "    </tr>\n",
       "  </tbody>\n",
       "</table>\n",
       "</div>"
      ],
      "text/plain": [
       "       Bill  Tips\n",
       "Meals            \n",
       "1       250    20\n",
       "2       150    10\n",
       "3       500    50\n",
       "4       890    60\n",
       "5      1300    90\n",
       "6       300    20\n",
       "7       900    30\n",
       "8       700    15\n",
       "9      1000    75\n",
       "10      650    35"
      ]
     },
     "execution_count": 8,
     "metadata": {},
     "output_type": "execute_result"
    }
   ],
   "source": [
    "tips = pd.DataFrame({'Bill': [250, 150, 500, 890, 1300, 300, 900, 700, 1000, 650], \n",
    "                     'Tips': [20, 10, 50, 60, 90, 20, 30, 15, 75, 35]})\n",
    "tips.index += 1\n",
    "tips.index.name = 'Meals'\n",
    "tips"
   ]
  },
  {
   "cell_type": "markdown",
   "metadata": {},
   "source": [
    "##### Now, the question becomes to what degree the tip amount can be predicted by the bill amount. So, the Tip is the DEPENDENT variable & the Bill is the INDEPENDENT variable."
   ]
  },
  {
   "cell_type": "markdown",
   "metadata": {},
   "source": [
    "So when we do regression, we compare the first model with this new model. So what is the least square method ?"
   ]
  },
  {
   "cell_type": "markdown",
   "metadata": {},
   "source": [
    "\\begin{align}\n",
    "min \\sum (y_{i} - \\hat y_{i})^2\\\\\n",
    "\\end{align}"
   ]
  },
  {
   "cell_type": "markdown",
   "metadata": {},
   "source": [
    "y = observed value of dependent variable (tip amount)\n",
    "\n",
    "yhat = estimated(predicted) value of dependent variable (predicted tip amount)"
   ]
  },
  {
   "cell_type": "markdown",
   "metadata": {},
   "source": [
    "So now we have 2 values on the graph for each x, one the actual value & the other the model predicted"
   ]
  },
  {
   "cell_type": "markdown",
   "metadata": {},
   "source": [
    "#### The goal is to minimize the sum of squared differences between the observed values for the dependent variable and the estimated/predicted value of the dependent variable that is provided by the regression line. Sum of squared residuals.\n"
   ]
  },
  {
   "cell_type": "markdown",
   "metadata": {},
   "source": [
    "Not only that but the sum of the squared residuals should be much smaller than when we just used the dependent variable alone, b=0, yhat = 40.5 for all values of x. That sum of squared residuals was 6672.5"
   ]
  },
  {
   "cell_type": "markdown",
   "metadata": {},
   "source": [
    "Let's begin by plotting our data"
   ]
  },
  {
   "cell_type": "code",
   "execution_count": 16,
   "metadata": {},
   "outputs": [
    {
     "data": {
      "text/plain": [
       "<matplotlib.axes._subplots.AxesSubplot at 0x1e5af5f6710>"
      ]
     },
     "execution_count": 16,
     "metadata": {},
     "output_type": "execute_result"
    },
    {
     "data": {
      "image/png": "[encoded data removed]",
      "text/plain": [
       "<Figure size 1080x360 with 1 Axes>"
      ]
     },
     "metadata": {},
     "output_type": "display_data"
    }
   ],
   "source": [
    "tips.plot.scatter(x='Bill', y='Tips', s=60, figsize=(15,5))"
   ]
  },
  {
   "cell_type": "markdown",
   "metadata": {},
   "source": [
    "Look for a visual line\n",
    "\n",
    "#### Yes, they are. If they are not then there is no linear pattern in a blob of data point. It has no use to find a linear relation there."
   ]
  },
  {
   "cell_type": "code",
   "execution_count": 18,
   "metadata": {},
   "outputs": [
    {
     "data": {
      "text/plain": [
       "(664.0, 40.5)"
      ]
     },
     "execution_count": 18,
     "metadata": {},
     "output_type": "execute_result"
    }
   ],
   "source": [
    "x_mean = tips['Bill'].mean()\n",
    "y_mean = tips['Tips'].mean()\n",
    "\n",
    "centroid = (x_mean, y_mean)\n",
    "centroid"
   ]
  },
  {
   "cell_type": "code",
   "execution_count": 29,
   "metadata": {},
   "outputs": [
    {
     "data": {
      "text/plain": [
       "Text(634,45.5,'CENTROID')"
      ]
     },
     "execution_count": 29,
     "metadata": {},
     "output_type": "execute_result"
    },
    {
     "data": {
      "image/png": "[encoded data removed]",
      "text/plain": [
       "<Figure size 1080x360 with 1 Axes>"
      ]
     },
     "metadata": {},
     "output_type": "display_data"
    }
   ],
   "source": [
    "plot = tips.plot.scatter(x='Bill', y='Tips', s=60, figsize=(15,5))\n",
    "plot.scatter(x=[x_mean], y=[y_mean], s=100, c='red')\n",
    "plot.annotate('CENTROID', xy= (x_mean, y_mean), xytext=(x_mean - 30, y_mean + 5)) "
   ]
  },
  {
   "cell_type": "markdown",
   "metadata": {},
   "source": [
    "#### The best fit regression line will/must pass through the centroid."
   ]
  },
  {
   "cell_type": "markdown",
   "metadata": {},
   "source": [
    "\\begin{align}\n",
    "\\hat y_{i} = b_{0} + b_{1}x_{1} \n",
    "\\end{align}"
   ]
  },
  {
   "cell_type": "markdown",
   "metadata": {},
   "source": [
    "\\begin{align}\n",
    "b_{1} = \\frac {\\sum (x_{i}- \\bar x) (y_{i} - \\bar y)}{\\sum (x_{i}- \\bar x)^2} \n",
    "\\end{align}"
   ]
  },
  {
   "cell_type": "markdown",
   "metadata": {
    "collapsed": true
   },
   "source": [
    "\\begin{align}\n",
    "b_{0} = \\bar y - b_{1} \\bar x\n",
    "\\end{align}"
   ]
  },
  {
   "cell_type": "code",
   "execution_count": 38,
   "metadata": {
    "collapsed": true
   },
   "outputs": [],
   "source": [
    "tips['BillDeviation (xi-xbar)'] = tips['Bill'] - x_mean\n",
    "tips['TipDeviation (yi-ybar)'] = tips['Tips'] - y_mean\n",
    "tips['DeviationsProduct'] = tips['BillDeviation (xi-xbar)'] * tips['TipDeviation (yi-ybar)']\n",
    "tips['BillDeviationsSquared'] = tips['BillDeviation (xi-xbar)'] * tips['BillDeviation (xi-xbar)']"
   ]
  },
  {
   "cell_type": "code",
   "execution_count": 39,
   "metadata": {},
   "outputs": [
    {
     "data": {
      "text/html": [
       "<div>\n",
       "<style>\n",
       "    .dataframe thead tr:only-child th {\n",
       "        text-align: right;\n",
       "    }\n",
       "\n",
       "    .dataframe thead th {\n",
       "        text-align: left;\n",
       "    }\n",
       "\n",
       "    .dataframe tbody tr th {\n",
       "        vertical-align: top;\n",
       "    }\n",
       "</style>\n",
       "<table border=\"1\" class=\"dataframe\">\n",
       "  <thead>\n",
       "    <tr style=\"text-align: right;\">\n",
       "      <th></th>\n",
       "      <th>Bill</th>\n",
       "      <th>Tips</th>\n",
       "      <th>BillDeviation(xi-xbar)</th>\n",
       "      <th>TipDeviation (yi-ybar)</th>\n",
       "      <th>BillDeviation (xi-xbar)</th>\n",
       "      <th>DeviationsProduct</th>\n",
       "      <th>BillDeviationsSquared</th>\n",
       "    </tr>\n",
       "    <tr>\n",
       "      <th>Meals</th>\n",
       "      <th></th>\n",
       "      <th></th>\n",
       "      <th></th>\n",
       "      <th></th>\n",
       "      <th></th>\n",
       "      <th></th>\n",
       "      <th></th>\n",
       "    </tr>\n",
       "  </thead>\n",
       "  <tbody>\n",
       "    <tr>\n",
       "      <th>1</th>\n",
       "      <td>250</td>\n",
       "      <td>20</td>\n",
       "      <td>-414.0</td>\n",
       "      <td>-20.5</td>\n",
       "      <td>-414.0</td>\n",
       "      <td>8487.0</td>\n",
       "      <td>171396.0</td>\n",
       "    </tr>\n",
       "    <tr>\n",
       "      <th>2</th>\n",
       "      <td>150</td>\n",
       "      <td>10</td>\n",
       "      <td>-514.0</td>\n",
       "      <td>-30.5</td>\n",
       "      <td>-514.0</td>\n",
       "      <td>15677.0</td>\n",
       "      <td>264196.0</td>\n",
       "    </tr>\n",
       "    <tr>\n",
       "      <th>3</th>\n",
       "      <td>500</td>\n",
       "      <td>50</td>\n",
       "      <td>-164.0</td>\n",
       "      <td>9.5</td>\n",
       "      <td>-164.0</td>\n",
       "      <td>-1558.0</td>\n",
       "      <td>26896.0</td>\n",
       "    </tr>\n",
       "    <tr>\n",
       "      <th>4</th>\n",
       "      <td>890</td>\n",
       "      <td>60</td>\n",
       "      <td>226.0</td>\n",
       "      <td>19.5</td>\n",
       "      <td>226.0</td>\n",
       "      <td>4407.0</td>\n",
       "      <td>51076.0</td>\n",
       "    </tr>\n",
       "    <tr>\n",
       "      <th>5</th>\n",
       "      <td>1300</td>\n",
       "      <td>90</td>\n",
       "      <td>636.0</td>\n",
       "      <td>49.5</td>\n",
       "      <td>636.0</td>\n",
       "      <td>31482.0</td>\n",
       "      <td>404496.0</td>\n",
       "    </tr>\n",
       "    <tr>\n",
       "      <th>6</th>\n",
       "      <td>300</td>\n",
       "      <td>20</td>\n",
       "      <td>-364.0</td>\n",
       "      <td>-20.5</td>\n",
       "      <td>-364.0</td>\n",
       "      <td>7462.0</td>\n",
       "      <td>132496.0</td>\n",
       "    </tr>\n",
       "    <tr>\n",
       "      <th>7</th>\n",
       "      <td>900</td>\n",
       "      <td>30</td>\n",
       "      <td>236.0</td>\n",
       "      <td>-10.5</td>\n",
       "      <td>236.0</td>\n",
       "      <td>-2478.0</td>\n",
       "      <td>55696.0</td>\n",
       "    </tr>\n",
       "    <tr>\n",
       "      <th>8</th>\n",
       "      <td>700</td>\n",
       "      <td>15</td>\n",
       "      <td>36.0</td>\n",
       "      <td>-25.5</td>\n",
       "      <td>36.0</td>\n",
       "      <td>-918.0</td>\n",
       "      <td>1296.0</td>\n",
       "    </tr>\n",
       "    <tr>\n",
       "      <th>9</th>\n",
       "      <td>1000</td>\n",
       "      <td>75</td>\n",
       "      <td>336.0</td>\n",
       "      <td>34.5</td>\n",
       "      <td>336.0</td>\n",
       "      <td>11592.0</td>\n",
       "      <td>112896.0</td>\n",
       "    </tr>\n",
       "    <tr>\n",
       "      <th>10</th>\n",
       "      <td>650</td>\n",
       "      <td>35</td>\n",
       "      <td>-14.0</td>\n",
       "      <td>-5.5</td>\n",
       "      <td>-14.0</td>\n",
       "      <td>77.0</td>\n",
       "      <td>196.0</td>\n",
       "    </tr>\n",
       "  </tbody>\n",
       "</table>\n",
       "</div>"
      ],
      "text/plain": [
       "       Bill  Tips  BillDeviation(xi-xbar)  TipDeviation (yi-ybar)  \\\n",
       "Meals                                                               \n",
       "1       250    20                  -414.0                   -20.5   \n",
       "2       150    10                  -514.0                   -30.5   \n",
       "3       500    50                  -164.0                     9.5   \n",
       "4       890    60                   226.0                    19.5   \n",
       "5      1300    90                   636.0                    49.5   \n",
       "6       300    20                  -364.0                   -20.5   \n",
       "7       900    30                   236.0                   -10.5   \n",
       "8       700    15                    36.0                   -25.5   \n",
       "9      1000    75                   336.0                    34.5   \n",
       "10      650    35                   -14.0                    -5.5   \n",
       "\n",
       "       BillDeviation (xi-xbar)  DeviationsProduct  BillDeviationsSquared  \n",
       "Meals                                                                     \n",
       "1                       -414.0             8487.0               171396.0  \n",
       "2                       -514.0            15677.0               264196.0  \n",
       "3                       -164.0            -1558.0                26896.0  \n",
       "4                        226.0             4407.0                51076.0  \n",
       "5                        636.0            31482.0               404496.0  \n",
       "6                       -364.0             7462.0               132496.0  \n",
       "7                        236.0            -2478.0                55696.0  \n",
       "8                         36.0             -918.0                 1296.0  \n",
       "9                        336.0            11592.0               112896.0  \n",
       "10                       -14.0               77.0                  196.0  "
      ]
     },
     "execution_count": 39,
     "metadata": {},
     "output_type": "execute_result"
    }
   ],
   "source": [
    "tips"
   ]
  },
  {
   "cell_type": "code",
   "execution_count": 40,
   "metadata": {},
   "outputs": [
    {
     "data": {
      "text/plain": [
       "0.06081236072879801"
      ]
     },
     "execution_count": 40,
     "metadata": {},
     "output_type": "execute_result"
    }
   ],
   "source": [
    "# Let's calculate the slope of the regression line \n",
    "\n",
    "b1 = tips['DeviationsProduct'].sum() / tips['BillDeviationsSquared'].sum()\n",
    "b1"
   ]
  },
  {
   "cell_type": "code",
   "execution_count": 45,
   "metadata": {},
   "outputs": [
    {
     "data": {
      "text/plain": [
       "0.12059247607812296"
      ]
     },
     "execution_count": 45,
     "metadata": {},
     "output_type": "execute_result"
    }
   ],
   "source": [
    "# Now the y intercept, \n",
    "b0 = y_mean - (b1 * x_mean)\n",
    "b0"
   ]
  },
  {
   "cell_type": "markdown",
   "metadata": {},
   "source": [
    "#### Regression line "
   ]
  },
  {
   "cell_type": "markdown",
   "metadata": {},
   "source": [
    "\\begin{align}\n",
    "\\hat y = 0.0608 x_{i} + 0.1205 \n",
    "\\end{align}"
   ]
  },
  {
   "cell_type": "code",
   "execution_count": 48,
   "metadata": {},
   "outputs": [
    {
     "data": {
      "text/html": [
       "<div>\n",
       "<style>\n",
       "    .dataframe thead tr:only-child th {\n",
       "        text-align: right;\n",
       "    }\n",
       "\n",
       "    .dataframe thead th {\n",
       "        text-align: left;\n",
       "    }\n",
       "\n",
       "    .dataframe tbody tr th {\n",
       "        vertical-align: top;\n",
       "    }\n",
       "</style>\n",
       "<table border=\"1\" class=\"dataframe\">\n",
       "  <thead>\n",
       "    <tr style=\"text-align: right;\">\n",
       "      <th></th>\n",
       "      <th>Bill</th>\n",
       "      <th>Tips</th>\n",
       "      <th>BillDeviation(xi-xbar)</th>\n",
       "      <th>TipDeviation (yi-ybar)</th>\n",
       "      <th>BillDeviation (xi-xbar)</th>\n",
       "      <th>DeviationsProduct</th>\n",
       "      <th>BillDeviationsSquared</th>\n",
       "      <th>PredictedTip</th>\n",
       "    </tr>\n",
       "    <tr>\n",
       "      <th>Meals</th>\n",
       "      <th></th>\n",
       "      <th></th>\n",
       "      <th></th>\n",
       "      <th></th>\n",
       "      <th></th>\n",
       "      <th></th>\n",
       "      <th></th>\n",
       "      <th></th>\n",
       "    </tr>\n",
       "  </thead>\n",
       "  <tbody>\n",
       "    <tr>\n",
       "      <th>1</th>\n",
       "      <td>250</td>\n",
       "      <td>20</td>\n",
       "      <td>-414.0</td>\n",
       "      <td>-20.5</td>\n",
       "      <td>-414.0</td>\n",
       "      <td>8487.0</td>\n",
       "      <td>171396.0</td>\n",
       "      <td>15.323683</td>\n",
       "    </tr>\n",
       "    <tr>\n",
       "      <th>2</th>\n",
       "      <td>150</td>\n",
       "      <td>10</td>\n",
       "      <td>-514.0</td>\n",
       "      <td>-30.5</td>\n",
       "      <td>-514.0</td>\n",
       "      <td>15677.0</td>\n",
       "      <td>264196.0</td>\n",
       "      <td>9.242447</td>\n",
       "    </tr>\n",
       "    <tr>\n",
       "      <th>3</th>\n",
       "      <td>500</td>\n",
       "      <td>50</td>\n",
       "      <td>-164.0</td>\n",
       "      <td>9.5</td>\n",
       "      <td>-164.0</td>\n",
       "      <td>-1558.0</td>\n",
       "      <td>26896.0</td>\n",
       "      <td>30.526773</td>\n",
       "    </tr>\n",
       "    <tr>\n",
       "      <th>4</th>\n",
       "      <td>890</td>\n",
       "      <td>60</td>\n",
       "      <td>226.0</td>\n",
       "      <td>19.5</td>\n",
       "      <td>226.0</td>\n",
       "      <td>4407.0</td>\n",
       "      <td>51076.0</td>\n",
       "      <td>54.243594</td>\n",
       "    </tr>\n",
       "    <tr>\n",
       "      <th>5</th>\n",
       "      <td>1300</td>\n",
       "      <td>90</td>\n",
       "      <td>636.0</td>\n",
       "      <td>49.5</td>\n",
       "      <td>636.0</td>\n",
       "      <td>31482.0</td>\n",
       "      <td>404496.0</td>\n",
       "      <td>79.176661</td>\n",
       "    </tr>\n",
       "    <tr>\n",
       "      <th>6</th>\n",
       "      <td>300</td>\n",
       "      <td>20</td>\n",
       "      <td>-364.0</td>\n",
       "      <td>-20.5</td>\n",
       "      <td>-364.0</td>\n",
       "      <td>7462.0</td>\n",
       "      <td>132496.0</td>\n",
       "      <td>18.364301</td>\n",
       "    </tr>\n",
       "    <tr>\n",
       "      <th>7</th>\n",
       "      <td>900</td>\n",
       "      <td>30</td>\n",
       "      <td>236.0</td>\n",
       "      <td>-10.5</td>\n",
       "      <td>236.0</td>\n",
       "      <td>-2478.0</td>\n",
       "      <td>55696.0</td>\n",
       "      <td>54.851717</td>\n",
       "    </tr>\n",
       "    <tr>\n",
       "      <th>8</th>\n",
       "      <td>700</td>\n",
       "      <td>15</td>\n",
       "      <td>36.0</td>\n",
       "      <td>-25.5</td>\n",
       "      <td>36.0</td>\n",
       "      <td>-918.0</td>\n",
       "      <td>1296.0</td>\n",
       "      <td>42.689245</td>\n",
       "    </tr>\n",
       "    <tr>\n",
       "      <th>9</th>\n",
       "      <td>1000</td>\n",
       "      <td>75</td>\n",
       "      <td>336.0</td>\n",
       "      <td>34.5</td>\n",
       "      <td>336.0</td>\n",
       "      <td>11592.0</td>\n",
       "      <td>112896.0</td>\n",
       "      <td>60.932953</td>\n",
       "    </tr>\n",
       "    <tr>\n",
       "      <th>10</th>\n",
       "      <td>650</td>\n",
       "      <td>35</td>\n",
       "      <td>-14.0</td>\n",
       "      <td>-5.5</td>\n",
       "      <td>-14.0</td>\n",
       "      <td>77.0</td>\n",
       "      <td>196.0</td>\n",
       "      <td>39.648627</td>\n",
       "    </tr>\n",
       "  </tbody>\n",
       "</table>\n",
       "</div>"
      ],
      "text/plain": [
       "       Bill  Tips  BillDeviation(xi-xbar)  TipDeviation (yi-ybar)  \\\n",
       "Meals                                                               \n",
       "1       250    20                  -414.0                   -20.5   \n",
       "2       150    10                  -514.0                   -30.5   \n",
       "3       500    50                  -164.0                     9.5   \n",
       "4       890    60                   226.0                    19.5   \n",
       "5      1300    90                   636.0                    49.5   \n",
       "6       300    20                  -364.0                   -20.5   \n",
       "7       900    30                   236.0                   -10.5   \n",
       "8       700    15                    36.0                   -25.5   \n",
       "9      1000    75                   336.0                    34.5   \n",
       "10      650    35                   -14.0                    -5.5   \n",
       "\n",
       "       BillDeviation (xi-xbar)  DeviationsProduct  BillDeviationsSquared  \\\n",
       "Meals                                                                      \n",
       "1                       -414.0             8487.0               171396.0   \n",
       "2                       -514.0            15677.0               264196.0   \n",
       "3                       -164.0            -1558.0                26896.0   \n",
       "4                        226.0             4407.0                51076.0   \n",
       "5                        636.0            31482.0               404496.0   \n",
       "6                       -364.0             7462.0               132496.0   \n",
       "7                        236.0            -2478.0                55696.0   \n",
       "8                         36.0             -918.0                 1296.0   \n",
       "9                        336.0            11592.0               112896.0   \n",
       "10                       -14.0               77.0                  196.0   \n",
       "\n",
       "       PredictedTip  \n",
       "Meals                \n",
       "1         15.323683  \n",
       "2          9.242447  \n",
       "3         30.526773  \n",
       "4         54.243594  \n",
       "5         79.176661  \n",
       "6         18.364301  \n",
       "7         54.851717  \n",
       "8         42.689245  \n",
       "9         60.932953  \n",
       "10        39.648627  "
      ]
     },
     "execution_count": 48,
     "metadata": {},
     "output_type": "execute_result"
    }
   ],
   "source": [
    "tips['PredictedTip'] = b0 + (b1 * tips['Bill'])\n",
    "tips"
   ]
  },
  {
   "cell_type": "code",
   "execution_count": 50,
   "metadata": {},
   "outputs": [
    {
     "data": {
      "text/html": [
       "<div>\n",
       "<style>\n",
       "    .dataframe thead tr:only-child th {\n",
       "        text-align: right;\n",
       "    }\n",
       "\n",
       "    .dataframe thead th {\n",
       "        text-align: left;\n",
       "    }\n",
       "\n",
       "    .dataframe tbody tr th {\n",
       "        vertical-align: top;\n",
       "    }\n",
       "</style>\n",
       "<table border=\"1\" class=\"dataframe\">\n",
       "  <thead>\n",
       "    <tr style=\"text-align: right;\">\n",
       "      <th></th>\n",
       "      <th>Bill</th>\n",
       "      <th>Tips</th>\n",
       "      <th>BillDeviation(xi-xbar)</th>\n",
       "      <th>TipDeviation (yi-ybar)</th>\n",
       "      <th>BillDeviation (xi-xbar)</th>\n",
       "      <th>DeviationsProduct</th>\n",
       "      <th>BillDeviationsSquared</th>\n",
       "      <th>PredictedTip</th>\n",
       "      <th>Error</th>\n",
       "      <th>SquaredError</th>\n",
       "    </tr>\n",
       "    <tr>\n",
       "      <th>Meals</th>\n",
       "      <th></th>\n",
       "      <th></th>\n",
       "      <th></th>\n",
       "      <th></th>\n",
       "      <th></th>\n",
       "      <th></th>\n",
       "      <th></th>\n",
       "      <th></th>\n",
       "      <th></th>\n",
       "      <th></th>\n",
       "    </tr>\n",
       "  </thead>\n",
       "  <tbody>\n",
       "    <tr>\n",
       "      <th>1</th>\n",
       "      <td>250</td>\n",
       "      <td>20</td>\n",
       "      <td>-414.0</td>\n",
       "      <td>-20.5</td>\n",
       "      <td>-414.0</td>\n",
       "      <td>8487.0</td>\n",
       "      <td>171396.0</td>\n",
       "      <td>15.323683</td>\n",
       "      <td>4.676317</td>\n",
       "      <td>21.867944</td>\n",
       "    </tr>\n",
       "    <tr>\n",
       "      <th>2</th>\n",
       "      <td>150</td>\n",
       "      <td>10</td>\n",
       "      <td>-514.0</td>\n",
       "      <td>-30.5</td>\n",
       "      <td>-514.0</td>\n",
       "      <td>15677.0</td>\n",
       "      <td>264196.0</td>\n",
       "      <td>9.242447</td>\n",
       "      <td>0.757553</td>\n",
       "      <td>0.573887</td>\n",
       "    </tr>\n",
       "    <tr>\n",
       "      <th>3</th>\n",
       "      <td>500</td>\n",
       "      <td>50</td>\n",
       "      <td>-164.0</td>\n",
       "      <td>9.5</td>\n",
       "      <td>-164.0</td>\n",
       "      <td>-1558.0</td>\n",
       "      <td>26896.0</td>\n",
       "      <td>30.526773</td>\n",
       "      <td>19.473227</td>\n",
       "      <td>379.206576</td>\n",
       "    </tr>\n",
       "    <tr>\n",
       "      <th>4</th>\n",
       "      <td>890</td>\n",
       "      <td>60</td>\n",
       "      <td>226.0</td>\n",
       "      <td>19.5</td>\n",
       "      <td>226.0</td>\n",
       "      <td>4407.0</td>\n",
       "      <td>51076.0</td>\n",
       "      <td>54.243594</td>\n",
       "      <td>5.756406</td>\n",
       "      <td>33.136216</td>\n",
       "    </tr>\n",
       "    <tr>\n",
       "      <th>5</th>\n",
       "      <td>1300</td>\n",
       "      <td>90</td>\n",
       "      <td>636.0</td>\n",
       "      <td>49.5</td>\n",
       "      <td>636.0</td>\n",
       "      <td>31482.0</td>\n",
       "      <td>404496.0</td>\n",
       "      <td>79.176661</td>\n",
       "      <td>10.823339</td>\n",
       "      <td>117.144658</td>\n",
       "    </tr>\n",
       "    <tr>\n",
       "      <th>6</th>\n",
       "      <td>300</td>\n",
       "      <td>20</td>\n",
       "      <td>-364.0</td>\n",
       "      <td>-20.5</td>\n",
       "      <td>-364.0</td>\n",
       "      <td>7462.0</td>\n",
       "      <td>132496.0</td>\n",
       "      <td>18.364301</td>\n",
       "      <td>1.635699</td>\n",
       "      <td>2.675512</td>\n",
       "    </tr>\n",
       "    <tr>\n",
       "      <th>7</th>\n",
       "      <td>900</td>\n",
       "      <td>30</td>\n",
       "      <td>236.0</td>\n",
       "      <td>-10.5</td>\n",
       "      <td>236.0</td>\n",
       "      <td>-2478.0</td>\n",
       "      <td>55696.0</td>\n",
       "      <td>54.851717</td>\n",
       "      <td>-24.851717</td>\n",
       "      <td>617.607844</td>\n",
       "    </tr>\n",
       "    <tr>\n",
       "      <th>8</th>\n",
       "      <td>700</td>\n",
       "      <td>15</td>\n",
       "      <td>36.0</td>\n",
       "      <td>-25.5</td>\n",
       "      <td>36.0</td>\n",
       "      <td>-918.0</td>\n",
       "      <td>1296.0</td>\n",
       "      <td>42.689245</td>\n",
       "      <td>-27.689245</td>\n",
       "      <td>766.694288</td>\n",
       "    </tr>\n",
       "    <tr>\n",
       "      <th>9</th>\n",
       "      <td>1000</td>\n",
       "      <td>75</td>\n",
       "      <td>336.0</td>\n",
       "      <td>34.5</td>\n",
       "      <td>336.0</td>\n",
       "      <td>11592.0</td>\n",
       "      <td>112896.0</td>\n",
       "      <td>60.932953</td>\n",
       "      <td>14.067047</td>\n",
       "      <td>197.881806</td>\n",
       "    </tr>\n",
       "    <tr>\n",
       "      <th>10</th>\n",
       "      <td>650</td>\n",
       "      <td>35</td>\n",
       "      <td>-14.0</td>\n",
       "      <td>-5.5</td>\n",
       "      <td>-14.0</td>\n",
       "      <td>77.0</td>\n",
       "      <td>196.0</td>\n",
       "      <td>39.648627</td>\n",
       "      <td>-4.648627</td>\n",
       "      <td>21.609733</td>\n",
       "    </tr>\n",
       "  </tbody>\n",
       "</table>\n",
       "</div>"
      ],
      "text/plain": [
       "       Bill  Tips  BillDeviation(xi-xbar)  TipDeviation (yi-ybar)  \\\n",
       "Meals                                                               \n",
       "1       250    20                  -414.0                   -20.5   \n",
       "2       150    10                  -514.0                   -30.5   \n",
       "3       500    50                  -164.0                     9.5   \n",
       "4       890    60                   226.0                    19.5   \n",
       "5      1300    90                   636.0                    49.5   \n",
       "6       300    20                  -364.0                   -20.5   \n",
       "7       900    30                   236.0                   -10.5   \n",
       "8       700    15                    36.0                   -25.5   \n",
       "9      1000    75                   336.0                    34.5   \n",
       "10      650    35                   -14.0                    -5.5   \n",
       "\n",
       "       BillDeviation (xi-xbar)  DeviationsProduct  BillDeviationsSquared  \\\n",
       "Meals                                                                      \n",
       "1                       -414.0             8487.0               171396.0   \n",
       "2                       -514.0            15677.0               264196.0   \n",
       "3                       -164.0            -1558.0                26896.0   \n",
       "4                        226.0             4407.0                51076.0   \n",
       "5                        636.0            31482.0               404496.0   \n",
       "6                       -364.0             7462.0               132496.0   \n",
       "7                        236.0            -2478.0                55696.0   \n",
       "8                         36.0             -918.0                 1296.0   \n",
       "9                        336.0            11592.0               112896.0   \n",
       "10                       -14.0               77.0                  196.0   \n",
       "\n",
       "       PredictedTip      Error  SquaredError  \n",
       "Meals                                         \n",
       "1         15.323683   4.676317     21.867944  \n",
       "2          9.242447   0.757553      0.573887  \n",
       "3         30.526773  19.473227    379.206576  \n",
       "4         54.243594   5.756406     33.136216  \n",
       "5         79.176661  10.823339    117.144658  \n",
       "6         18.364301   1.635699      2.675512  \n",
       "7         54.851717 -24.851717    617.607844  \n",
       "8         42.689245 -27.689245    766.694288  \n",
       "9         60.932953  14.067047    197.881806  \n",
       "10        39.648627  -4.648627     21.609733  "
      ]
     },
     "execution_count": 50,
     "metadata": {},
     "output_type": "execute_result"
    }
   ],
   "source": [
    "tips['Error'] = tips['Tips'] - tips['PredictedTip']\n",
    "tips['SquaredError'] = tips['Error'] * tips['Error']\n",
    "tips"
   ]
  },
  {
   "cell_type": "code",
   "execution_count": 51,
   "metadata": {},
   "outputs": [
    {
     "data": {
      "text/plain": [
       "2158.398463101324"
      ]
     },
     "execution_count": 51,
     "metadata": {},
     "output_type": "execute_result"
    }
   ],
   "source": [
    "sse = tips['SquaredError'].sum()\n",
    "sse"
   ]
  },
  {
   "cell_type": "code",
   "execution_count": 55,
   "metadata": {},
   "outputs": [
    {
     "data": {
      "text/plain": [
       "Text(634,45.5,'CENTROID')"
      ]
     },
     "execution_count": 55,
     "metadata": {},
     "output_type": "execute_result"
    },
    {
     "data": {
      "image/png": "[encoded data removed]",
      "text/plain": [
       "<Figure size 1080x360 with 1 Axes>"
      ]
     },
     "metadata": {},
     "output_type": "display_data"
    }
   ],
   "source": [
    "\n",
    "#A lot of these solutions are focusing on adding a line to the plot that fits the data. Here's a simple solution for adding an arbitrary line to the plot based on a slope and intercept.\n",
    "\n",
    "import numpy as np\n",
    "plot = tips.plot.scatter(x='Bill', y='Tips', s=60, figsize=(15,5))\n",
    "plot.scatter(x=[x_mean], y=[y_mean], s=100, c='red')\n",
    "\n",
    "# axes = plot.gca()\n",
    "x_vals = np.array(plot.get_xlim())\n",
    "y_vals = b0 + b1 * x_vals\n",
    "plot.plot(x_vals, y_vals, '--')\n",
    "\n",
    "plot.annotate('CENTROID', xy= (x_mean, y_mean), xytext=(x_mean - 30, y_mean + 5))\n",
    "\n",
    "# def abline(slope, intercept):\n",
    "#     \"\"\"Plot a line from slope and intercept\"\"\"\n",
    "#     axes = plt.gca()\n",
    "#     x_vals = np.array(axes.get_xlim())\n",
    "#     y_vals = intercept + slope * x_vals\n",
    "#     plt.plot(x_vals, y_vals, '--')\n",
    "\n",
    "best linear unbiased estimator BLUE\n",
    "basic econometrics damodar n gujrati\n"
   ]
  },
  {
   "cell_type": "code",
   "execution_count": null,
   "metadata": {},
   "outputs": [],
   "source": []
  }
 ],
 "metadata": {
  "kernelspec": {
   "display_name": "Python 3",
   "language": "python",
   "name": "python3"
  },
  "language_info": {
   "codemirror_mode": {
    "name": "ipython",
    "version": 3
   },
   "file_extension": ".py",
   "mimetype": "text/x-python",
   "name": "python",
   "nbconvert_exporter": "python",
   "pygments_lexer": "ipython3",
   "version": "3.7.4"
  },
  "varInspector": {
   "cols": {
    "lenName": 16,
    "lenType": 16,
    "lenVar": 40
   },
   "kernels_config": {
    "python": {
     "delete_cmd_postfix": "",
     "delete_cmd_prefix": "del ",
     "library": "var_list.py",
     "varRefreshCmd": "print(var_dic_list())"
    },
    "r": {
     "delete_cmd_postfix": ") ",
     "delete_cmd_prefix": "rm(",
     "library": "var_list.r",
     "varRefreshCmd": "cat(var_dic_list()) "
    }
   },
   "types_to_exclude": [
    "module",
    "function",
    "builtin_function_or_method",
    "instance",
    "_Feature"
   ],
   "window_display": false
  }
 },
 "nbformat": 4,
 "nbformat_minor": 2
}
