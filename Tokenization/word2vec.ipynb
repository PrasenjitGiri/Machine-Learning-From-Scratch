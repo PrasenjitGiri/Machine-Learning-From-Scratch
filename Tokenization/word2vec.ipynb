{
 "cells": [
  {
   "cell_type": "code",
   "execution_count": 77,
   "metadata": {},
   "outputs": [],
   "source": [
    "from pprint import pprint\n",
    "\n",
    "import numpy as np\n",
    "import pandas as pd\n",
    "import torch\n",
    "import torch.nn as nn\n",
    "import torch.optim as optim\n",
    "import matplotlib.pyplot as plt"
   ]
  },
  {
   "cell_type": "code",
   "execution_count": 26,
   "metadata": {},
   "outputs": [],
   "source": [
    "sentences = [\n",
    "    \"The future king is the prince\"\n",
    "    ,\"Daughter is the princess\"\n",
    "    ,\"Son is the prince\"\n",
    "    ,\"Only a man can be a king\"\n",
    "    ,\"Only a woman can be a queen\"\n",
    "    ,\"The princess will be a queen\"\n",
    "    ,\"The prince is a strong man\"\n",
    "    ,\"The princess is a beautiful woman\"\n",
    "    ,\"Prince is only a boy now\"\n",
    "    ,\"Prince will be a king\"\n",
    "    ,\"A boy will be a man\"\n",
    "]"
   ]
  },
  {
   "cell_type": "code",
   "execution_count": 27,
   "metadata": {},
   "outputs": [],
   "source": [
    "for index, sent in enumerate(sentences):\n",
    "    sentences[index] = sent.lower()"
   ]
  },
  {
   "cell_type": "code",
   "execution_count": 28,
   "metadata": {},
   "outputs": [
    {
     "data": {
      "text/plain": [
       "['the future king is the prince',\n",
       " 'daughter is the princess',\n",
       " 'son is the prince',\n",
       " 'only a man can be a king',\n",
       " 'only a woman can be a queen',\n",
       " 'the princess will be a queen',\n",
       " 'the prince is a strong man',\n",
       " 'the princess is a beautiful woman',\n",
       " 'prince is only a boy now',\n",
       " 'prince will be a king',\n",
       " 'a boy will be a man']"
      ]
     },
     "execution_count": 28,
     "metadata": {},
     "output_type": "execute_result"
    }
   ],
   "source": [
    "sentences"
   ]
  },
  {
   "cell_type": "markdown",
   "metadata": {},
   "source": [
    "### Remove stopwords from the sentences"
   ]
  },
  {
   "cell_type": "code",
   "execution_count": 29,
   "metadata": {},
   "outputs": [],
   "source": [
    "stopwords = ['the', 'is', 'an', 'a', 'i', 'are', 'can', 'at', 'their', 'only', 'will', 'be', 'now']"
   ]
  },
  {
   "cell_type": "code",
   "execution_count": 30,
   "metadata": {},
   "outputs": [
    {
     "data": {
      "text/plain": [
       "['future king prince',\n",
       " 'daughter princess',\n",
       " 'son prince',\n",
       " 'man king',\n",
       " 'woman queen',\n",
       " 'princess queen',\n",
       " 'prince strong man',\n",
       " 'princess beautiful woman',\n",
       " 'prince boy',\n",
       " 'prince king',\n",
       " 'boy man']"
      ]
     },
     "execution_count": 30,
     "metadata": {},
     "output_type": "execute_result"
    }
   ],
   "source": [
    "cleaned_sents = []\n",
    "\n",
    "for index, sent in enumerate(sentences):\n",
    "    clean_sent = []\n",
    "    for word in sent.split():\n",
    "        if word not in stopwords:\n",
    "            clean_sent.append(word)\n",
    "    cleaned_sents.append(' '.join(clean_sent))\n",
    "\n",
    "\n",
    "cleaned_sents\n",
    "            "
   ]
  },
  {
   "cell_type": "markdown",
   "metadata": {},
   "source": [
    "### Create Bigrams"
   ]
  },
  {
   "cell_type": "code",
   "execution_count": 31,
   "metadata": {},
   "outputs": [
    {
     "data": {
      "text/plain": [
       "[['future', 'king'],\n",
       " ['king', 'future'],\n",
       " ['future', 'prince'],\n",
       " ['prince', 'future'],\n",
       " ['king', 'prince'],\n",
       " ['prince', 'king'],\n",
       " ['daughter', 'princess'],\n",
       " ['princess', 'daughter'],\n",
       " ['son', 'prince'],\n",
       " ['prince', 'son'],\n",
       " ['man', 'king'],\n",
       " ['king', 'man'],\n",
       " ['woman', 'queen'],\n",
       " ['queen', 'woman'],\n",
       " ['princess', 'queen'],\n",
       " ['queen', 'princess'],\n",
       " ['prince', 'strong'],\n",
       " ['strong', 'prince'],\n",
       " ['prince', 'man'],\n",
       " ['man', 'prince'],\n",
       " ['strong', 'man'],\n",
       " ['man', 'strong'],\n",
       " ['princess', 'beautiful'],\n",
       " ['beautiful', 'princess'],\n",
       " ['princess', 'woman'],\n",
       " ['woman', 'princess'],\n",
       " ['beautiful', 'woman'],\n",
       " ['woman', 'beautiful'],\n",
       " ['prince', 'boy'],\n",
       " ['boy', 'prince'],\n",
       " ['prince', 'king'],\n",
       " ['king', 'prince'],\n",
       " ['boy', 'man'],\n",
       " ['man', 'boy']]"
      ]
     },
     "execution_count": 31,
     "metadata": {},
     "output_type": "execute_result"
    }
   ],
   "source": [
    "bigrams = []\n",
    "\n",
    "for index, sent in enumerate(cleaned_sents):\n",
    "    words = sent.split()\n",
    "    for i in range(len(words)-1):\n",
    "        for j in range(i+1, len(words)):\n",
    "            bigrams.append([words[i], words[j]])\n",
    "            bigrams.append([words[j], words[i]])\n",
    "\n",
    "bigrams"
   ]
  },
  {
   "attachments": {},
   "cell_type": "markdown",
   "metadata": {},
   "source": [
    "### Vocabulary"
   ]
  },
  {
   "cell_type": "code",
   "execution_count": 33,
   "metadata": {},
   "outputs": [
    {
     "data": {
      "text/plain": [
       "['beautiful',\n",
       " 'boy',\n",
       " 'daughter',\n",
       " 'future',\n",
       " 'king',\n",
       " 'man',\n",
       " 'prince',\n",
       " 'princess',\n",
       " 'queen',\n",
       " 'son',\n",
       " 'strong',\n",
       " 'woman']"
      ]
     },
     "execution_count": 33,
     "metadata": {},
     "output_type": "execute_result"
    }
   ],
   "source": [
    "words = []\n",
    "\n",
    "for grm in bigrams:\n",
    "    words.extend(grm)\n",
    "\n",
    "words = list(set(words))\n",
    "words.sort()\n",
    "words"
   ]
  },
  {
   "cell_type": "code",
   "execution_count": 35,
   "metadata": {},
   "outputs": [],
   "source": [
    "### One-Hot Encoding"
   ]
  },
  {
   "cell_type": "code",
   "execution_count": 38,
   "metadata": {},
   "outputs": [
    {
     "data": {
      "text/plain": [
       "{'beautiful': 0,\n",
       " 'boy': 1,\n",
       " 'daughter': 2,\n",
       " 'future': 3,\n",
       " 'king': 4,\n",
       " 'man': 5,\n",
       " 'prince': 6,\n",
       " 'princess': 7,\n",
       " 'queen': 8,\n",
       " 'son': 9,\n",
       " 'strong': 10,\n",
       " 'woman': 11}"
      ]
     },
     "execution_count": 38,
     "metadata": {},
     "output_type": "execute_result"
    }
   ],
   "source": [
    "# Let us assign a token to each of our word\n",
    "\n",
    "words_dict = {}\n",
    "\n",
    "for index, word in enumerate(words):\n",
    "    words_dict[word] = index\n",
    "\n",
    "words_dict"
   ]
  },
  {
   "cell_type": "code",
   "execution_count": 39,
   "metadata": {},
   "outputs": [
    {
     "data": {
      "text/plain": [
       "array([[0., 0., 0., 0., 0., 0., 0., 0., 0., 0., 0., 0.],\n",
       "       [0., 0., 0., 0., 0., 0., 0., 0., 0., 0., 0., 0.],\n",
       "       [0., 0., 0., 0., 0., 0., 0., 0., 0., 0., 0., 0.],\n",
       "       [0., 0., 0., 0., 0., 0., 0., 0., 0., 0., 0., 0.],\n",
       "       [0., 0., 0., 0., 0., 0., 0., 0., 0., 0., 0., 0.],\n",
       "       [0., 0., 0., 0., 0., 0., 0., 0., 0., 0., 0., 0.],\n",
       "       [0., 0., 0., 0., 0., 0., 0., 0., 0., 0., 0., 0.],\n",
       "       [0., 0., 0., 0., 0., 0., 0., 0., 0., 0., 0., 0.],\n",
       "       [0., 0., 0., 0., 0., 0., 0., 0., 0., 0., 0., 0.],\n",
       "       [0., 0., 0., 0., 0., 0., 0., 0., 0., 0., 0., 0.],\n",
       "       [0., 0., 0., 0., 0., 0., 0., 0., 0., 0., 0., 0.],\n",
       "       [0., 0., 0., 0., 0., 0., 0., 0., 0., 0., 0., 0.]])"
      ]
     },
     "execution_count": 39,
     "metadata": {},
     "output_type": "execute_result"
    }
   ],
   "source": [
    "one_hot_data = np.zeros((len(words), len(words)))\n",
    "\n",
    "one_hot_data"
   ]
  },
  {
   "cell_type": "code",
   "execution_count": 44,
   "metadata": {},
   "outputs": [
    {
     "data": {
      "text/plain": [
       "array([[1., 0., 0., 0., 0., 0., 0., 0., 0., 0., 0., 0.],\n",
       "       [0., 1., 0., 0., 0., 0., 0., 0., 0., 0., 0., 0.],\n",
       "       [0., 0., 1., 0., 0., 0., 0., 0., 0., 0., 0., 0.],\n",
       "       [0., 0., 0., 1., 0., 0., 0., 0., 0., 0., 0., 0.],\n",
       "       [0., 0., 0., 0., 1., 0., 0., 0., 0., 0., 0., 0.],\n",
       "       [0., 0., 0., 0., 0., 1., 0., 0., 0., 0., 0., 0.],\n",
       "       [0., 0., 0., 0., 0., 0., 1., 0., 0., 0., 0., 0.],\n",
       "       [0., 0., 0., 0., 0., 0., 0., 1., 0., 0., 0., 0.],\n",
       "       [0., 0., 0., 0., 0., 0., 0., 0., 1., 0., 0., 0.],\n",
       "       [0., 0., 0., 0., 0., 0., 0., 0., 0., 1., 0., 0.],\n",
       "       [0., 0., 0., 0., 0., 0., 0., 0., 0., 0., 1., 0.],\n",
       "       [0., 0., 0., 0., 0., 0., 0., 0., 0., 0., 0., 1.]])"
      ]
     },
     "execution_count": 44,
     "metadata": {},
     "output_type": "execute_result"
    }
   ],
   "source": [
    "for i in range(len(words)):\n",
    "    one_hot_data[i][i] = 1\n",
    "\n",
    "one_hot_data"
   ]
  },
  {
   "cell_type": "code",
   "execution_count": 49,
   "metadata": {},
   "outputs": [
    {
     "data": {
      "text/html": [
       "<div>\n",
       "<style scoped>\n",
       "    .dataframe tbody tr th:only-of-type {\n",
       "        vertical-align: middle;\n",
       "    }\n",
       "\n",
       "    .dataframe tbody tr th {\n",
       "        vertical-align: top;\n",
       "    }\n",
       "\n",
       "    .dataframe thead th {\n",
       "        text-align: right;\n",
       "    }\n",
       "</style>\n",
       "<table border=\"1\" class=\"dataframe\">\n",
       "  <thead>\n",
       "    <tr style=\"text-align: right;\">\n",
       "      <th></th>\n",
       "      <th>words</th>\n",
       "      <th>beautiful</th>\n",
       "      <th>boy</th>\n",
       "      <th>daughter</th>\n",
       "      <th>future</th>\n",
       "      <th>king</th>\n",
       "      <th>man</th>\n",
       "      <th>prince</th>\n",
       "      <th>princess</th>\n",
       "      <th>queen</th>\n",
       "      <th>son</th>\n",
       "      <th>strong</th>\n",
       "      <th>woman</th>\n",
       "    </tr>\n",
       "  </thead>\n",
       "  <tbody>\n",
       "    <tr>\n",
       "      <th>0</th>\n",
       "      <td>beautiful</td>\n",
       "      <td>1.0</td>\n",
       "      <td>0.0</td>\n",
       "      <td>0.0</td>\n",
       "      <td>0.0</td>\n",
       "      <td>0.0</td>\n",
       "      <td>0.0</td>\n",
       "      <td>0.0</td>\n",
       "      <td>0.0</td>\n",
       "      <td>0.0</td>\n",
       "      <td>0.0</td>\n",
       "      <td>0.0</td>\n",
       "      <td>0.0</td>\n",
       "    </tr>\n",
       "    <tr>\n",
       "      <th>1</th>\n",
       "      <td>boy</td>\n",
       "      <td>0.0</td>\n",
       "      <td>1.0</td>\n",
       "      <td>0.0</td>\n",
       "      <td>0.0</td>\n",
       "      <td>0.0</td>\n",
       "      <td>0.0</td>\n",
       "      <td>0.0</td>\n",
       "      <td>0.0</td>\n",
       "      <td>0.0</td>\n",
       "      <td>0.0</td>\n",
       "      <td>0.0</td>\n",
       "      <td>0.0</td>\n",
       "    </tr>\n",
       "    <tr>\n",
       "      <th>2</th>\n",
       "      <td>daughter</td>\n",
       "      <td>0.0</td>\n",
       "      <td>0.0</td>\n",
       "      <td>1.0</td>\n",
       "      <td>0.0</td>\n",
       "      <td>0.0</td>\n",
       "      <td>0.0</td>\n",
       "      <td>0.0</td>\n",
       "      <td>0.0</td>\n",
       "      <td>0.0</td>\n",
       "      <td>0.0</td>\n",
       "      <td>0.0</td>\n",
       "      <td>0.0</td>\n",
       "    </tr>\n",
       "    <tr>\n",
       "      <th>3</th>\n",
       "      <td>future</td>\n",
       "      <td>0.0</td>\n",
       "      <td>0.0</td>\n",
       "      <td>0.0</td>\n",
       "      <td>1.0</td>\n",
       "      <td>0.0</td>\n",
       "      <td>0.0</td>\n",
       "      <td>0.0</td>\n",
       "      <td>0.0</td>\n",
       "      <td>0.0</td>\n",
       "      <td>0.0</td>\n",
       "      <td>0.0</td>\n",
       "      <td>0.0</td>\n",
       "    </tr>\n",
       "    <tr>\n",
       "      <th>4</th>\n",
       "      <td>king</td>\n",
       "      <td>0.0</td>\n",
       "      <td>0.0</td>\n",
       "      <td>0.0</td>\n",
       "      <td>0.0</td>\n",
       "      <td>1.0</td>\n",
       "      <td>0.0</td>\n",
       "      <td>0.0</td>\n",
       "      <td>0.0</td>\n",
       "      <td>0.0</td>\n",
       "      <td>0.0</td>\n",
       "      <td>0.0</td>\n",
       "      <td>0.0</td>\n",
       "    </tr>\n",
       "    <tr>\n",
       "      <th>5</th>\n",
       "      <td>man</td>\n",
       "      <td>0.0</td>\n",
       "      <td>0.0</td>\n",
       "      <td>0.0</td>\n",
       "      <td>0.0</td>\n",
       "      <td>0.0</td>\n",
       "      <td>1.0</td>\n",
       "      <td>0.0</td>\n",
       "      <td>0.0</td>\n",
       "      <td>0.0</td>\n",
       "      <td>0.0</td>\n",
       "      <td>0.0</td>\n",
       "      <td>0.0</td>\n",
       "    </tr>\n",
       "    <tr>\n",
       "      <th>6</th>\n",
       "      <td>prince</td>\n",
       "      <td>0.0</td>\n",
       "      <td>0.0</td>\n",
       "      <td>0.0</td>\n",
       "      <td>0.0</td>\n",
       "      <td>0.0</td>\n",
       "      <td>0.0</td>\n",
       "      <td>1.0</td>\n",
       "      <td>0.0</td>\n",
       "      <td>0.0</td>\n",
       "      <td>0.0</td>\n",
       "      <td>0.0</td>\n",
       "      <td>0.0</td>\n",
       "    </tr>\n",
       "    <tr>\n",
       "      <th>7</th>\n",
       "      <td>princess</td>\n",
       "      <td>0.0</td>\n",
       "      <td>0.0</td>\n",
       "      <td>0.0</td>\n",
       "      <td>0.0</td>\n",
       "      <td>0.0</td>\n",
       "      <td>0.0</td>\n",
       "      <td>0.0</td>\n",
       "      <td>1.0</td>\n",
       "      <td>0.0</td>\n",
       "      <td>0.0</td>\n",
       "      <td>0.0</td>\n",
       "      <td>0.0</td>\n",
       "    </tr>\n",
       "    <tr>\n",
       "      <th>8</th>\n",
       "      <td>queen</td>\n",
       "      <td>0.0</td>\n",
       "      <td>0.0</td>\n",
       "      <td>0.0</td>\n",
       "      <td>0.0</td>\n",
       "      <td>0.0</td>\n",
       "      <td>0.0</td>\n",
       "      <td>0.0</td>\n",
       "      <td>0.0</td>\n",
       "      <td>1.0</td>\n",
       "      <td>0.0</td>\n",
       "      <td>0.0</td>\n",
       "      <td>0.0</td>\n",
       "    </tr>\n",
       "    <tr>\n",
       "      <th>9</th>\n",
       "      <td>son</td>\n",
       "      <td>0.0</td>\n",
       "      <td>0.0</td>\n",
       "      <td>0.0</td>\n",
       "      <td>0.0</td>\n",
       "      <td>0.0</td>\n",
       "      <td>0.0</td>\n",
       "      <td>0.0</td>\n",
       "      <td>0.0</td>\n",
       "      <td>0.0</td>\n",
       "      <td>1.0</td>\n",
       "      <td>0.0</td>\n",
       "      <td>0.0</td>\n",
       "    </tr>\n",
       "    <tr>\n",
       "      <th>10</th>\n",
       "      <td>strong</td>\n",
       "      <td>0.0</td>\n",
       "      <td>0.0</td>\n",
       "      <td>0.0</td>\n",
       "      <td>0.0</td>\n",
       "      <td>0.0</td>\n",
       "      <td>0.0</td>\n",
       "      <td>0.0</td>\n",
       "      <td>0.0</td>\n",
       "      <td>0.0</td>\n",
       "      <td>0.0</td>\n",
       "      <td>1.0</td>\n",
       "      <td>0.0</td>\n",
       "    </tr>\n",
       "    <tr>\n",
       "      <th>11</th>\n",
       "      <td>woman</td>\n",
       "      <td>0.0</td>\n",
       "      <td>0.0</td>\n",
       "      <td>0.0</td>\n",
       "      <td>0.0</td>\n",
       "      <td>0.0</td>\n",
       "      <td>0.0</td>\n",
       "      <td>0.0</td>\n",
       "      <td>0.0</td>\n",
       "      <td>0.0</td>\n",
       "      <td>0.0</td>\n",
       "      <td>0.0</td>\n",
       "      <td>1.0</td>\n",
       "    </tr>\n",
       "  </tbody>\n",
       "</table>\n",
       "</div>"
      ],
      "text/plain": [
       "        words  beautiful  boy  daughter  future  king  man  prince  princess  \\\n",
       "0   beautiful        1.0  0.0       0.0     0.0   0.0  0.0     0.0       0.0   \n",
       "1         boy        0.0  1.0       0.0     0.0   0.0  0.0     0.0       0.0   \n",
       "2    daughter        0.0  0.0       1.0     0.0   0.0  0.0     0.0       0.0   \n",
       "3      future        0.0  0.0       0.0     1.0   0.0  0.0     0.0       0.0   \n",
       "4        king        0.0  0.0       0.0     0.0   1.0  0.0     0.0       0.0   \n",
       "5         man        0.0  0.0       0.0     0.0   0.0  1.0     0.0       0.0   \n",
       "6      prince        0.0  0.0       0.0     0.0   0.0  0.0     1.0       0.0   \n",
       "7    princess        0.0  0.0       0.0     0.0   0.0  0.0     0.0       1.0   \n",
       "8       queen        0.0  0.0       0.0     0.0   0.0  0.0     0.0       0.0   \n",
       "9         son        0.0  0.0       0.0     0.0   0.0  0.0     0.0       0.0   \n",
       "10     strong        0.0  0.0       0.0     0.0   0.0  0.0     0.0       0.0   \n",
       "11      woman        0.0  0.0       0.0     0.0   0.0  0.0     0.0       0.0   \n",
       "\n",
       "    queen  son  strong  woman  \n",
       "0     0.0  0.0     0.0    0.0  \n",
       "1     0.0  0.0     0.0    0.0  \n",
       "2     0.0  0.0     0.0    0.0  \n",
       "3     0.0  0.0     0.0    0.0  \n",
       "4     0.0  0.0     0.0    0.0  \n",
       "5     0.0  0.0     0.0    0.0  \n",
       "6     0.0  0.0     0.0    0.0  \n",
       "7     0.0  0.0     0.0    0.0  \n",
       "8     1.0  0.0     0.0    0.0  \n",
       "9     0.0  1.0     0.0    0.0  \n",
       "10    0.0  0.0     1.0    0.0  \n",
       "11    0.0  0.0     0.0    1.0  "
      ]
     },
     "execution_count": 49,
     "metadata": {},
     "output_type": "execute_result"
    }
   ],
   "source": [
    "one_hot_df = pd.DataFrame(one_hot_data, columns=words)\n",
    "one_hot_df.insert(0, 'words', words)\n",
    "\n",
    "# Each row is the one hot vector for individual words\n",
    "one_hot_df"
   ]
  },
  {
   "cell_type": "code",
   "execution_count": 51,
   "metadata": {},
   "outputs": [
    {
     "name": "stdout",
     "output_type": "stream",
     "text": [
      "{ 'beautiful': array([1., 0., 0., 0., 0., 0., 0., 0., 0., 0., 0., 0.]),\n",
      "  'boy': array([0., 1., 0., 0., 0., 0., 0., 0., 0., 0., 0., 0.]),\n",
      "  'daughter': array([0., 0., 1., 0., 0., 0., 0., 0., 0., 0., 0., 0.]),\n",
      "  'future': array([0., 0., 0., 1., 0., 0., 0., 0., 0., 0., 0., 0.]),\n",
      "  'king': array([0., 0., 0., 0., 1., 0., 0., 0., 0., 0., 0., 0.]),\n",
      "  'man': array([0., 0., 0., 0., 0., 1., 0., 0., 0., 0., 0., 0.]),\n",
      "  'prince': array([0., 0., 0., 0., 0., 0., 1., 0., 0., 0., 0., 0.]),\n",
      "  'princess': array([0., 0., 0., 0., 0., 0., 0., 1., 0., 0., 0., 0.]),\n",
      "  'queen': array([0., 0., 0., 0., 0., 0., 0., 0., 1., 0., 0., 0.]),\n",
      "  'son': array([0., 0., 0., 0., 0., 0., 0., 0., 0., 1., 0., 0.]),\n",
      "  'strong': array([0., 0., 0., 0., 0., 0., 0., 0., 0., 0., 1., 0.]),\n",
      "  'woman': array([0., 0., 0., 0., 0., 0., 0., 0., 0., 0., 0., 1.])}\n"
     ]
    }
   ],
   "source": [
    "one_hot_dict = {}\n",
    "\n",
    "for i in range(len(words)):\n",
    "    one_hot_dict[words[i]] = one_hot_data[i]\n",
    "\n",
    "\n",
    "pprint(one_hot_dict, indent=2)"
   ]
  },
  {
   "cell_type": "markdown",
   "metadata": {},
   "source": [
    "### Prepare training data "
   ]
  },
  {
   "cell_type": "code",
   "execution_count": 59,
   "metadata": {},
   "outputs": [],
   "source": [
    "X = []\n",
    "Y = []\n",
    "\n",
    "for grm in bigrams:\n",
    "    X.append(one_hot_dict[grm[0]])\n",
    "    Y.append(one_hot_dict[grm[1]])\n"
   ]
  },
  {
   "cell_type": "code",
   "execution_count": 62,
   "metadata": {},
   "outputs": [],
   "source": [
    "X = np.array(X)\n",
    "Y = np.array(Y)"
   ]
  },
  {
   "cell_type": "code",
   "execution_count": 63,
   "metadata": {},
   "outputs": [],
   "source": [
    "## Model to create word embedding\n",
    "\n",
    "# Number of input layers and output layers will be same as we are trying to find the word embeddings for each words\n",
    "# For simplicty we chose hidden layers as 2. It will be 2 dimension and easy to plot "
   ]
  },
  {
   "cell_type": "code",
   "execution_count": 79,
   "metadata": {},
   "outputs": [
    {
     "name": "stdout",
     "output_type": "stream",
     "text": [
      "Epoch: 0 Loss: 2.485675811767578\n",
      "Epoch: 100 Loss: 2.4766411781311035\n",
      "Epoch: 200 Loss: 2.4618234634399414\n",
      "Epoch: 300 Loss: 2.4349708557128906\n",
      "Epoch: 400 Loss: 2.390324831008911\n",
      "Epoch: 500 Loss: 2.339228391647339\n",
      "Epoch: 600 Loss: 2.301947593688965\n",
      "Epoch: 700 Loss: 2.271080255508423\n",
      "Epoch: 800 Loss: 2.248464584350586\n",
      "Epoch: 900 Loss: 2.2359771728515625\n",
      "Epoch: 1000 Loss: 2.2271077632904053\n",
      "Epoch: 1100 Loss: 2.219806432723999\n",
      "Epoch: 1200 Loss: 2.214179754257202\n",
      "Epoch: 1300 Loss: 2.210402011871338\n",
      "Epoch: 1400 Loss: 2.207935094833374\n",
      "Epoch: 1500 Loss: 2.2062478065490723\n",
      "Epoch: 1600 Loss: 2.205031156539917\n",
      "Epoch: 1700 Loss: 2.204113721847534\n",
      "Epoch: 1800 Loss: 2.203392505645752\n",
      "Epoch: 1900 Loss: 2.2027933597564697\n",
      "Epoch: 2000 Loss: 2.2022337913513184\n",
      "Epoch: 2100 Loss: 2.201525926589966\n",
      "Epoch: 2200 Loss: 2.2005717754364014\n",
      "Epoch: 2300 Loss: 2.2000558376312256\n",
      "Epoch: 2400 Loss: 2.199758291244507\n",
      "Epoch: 2500 Loss: 2.1995232105255127\n",
      "Epoch: 2600 Loss: 2.199328660964966\n",
      "Epoch: 2700 Loss: 2.1991641521453857\n",
      "Epoch: 2800 Loss: 2.199024200439453\n",
      "Epoch: 2900 Loss: 2.1989023685455322\n",
      "Epoch: 3000 Loss: 2.198796510696411\n",
      "Epoch: 3100 Loss: 2.1987035274505615\n",
      "Epoch: 3200 Loss: 2.1986210346221924\n",
      "Epoch: 3300 Loss: 2.19854736328125\n",
      "Epoch: 3400 Loss: 2.198482036590576\n",
      "Epoch: 3500 Loss: 2.198423385620117\n",
      "Epoch: 3600 Loss: 2.198369264602661\n",
      "Epoch: 3700 Loss: 2.1983208656311035\n",
      "Epoch: 3800 Loss: 2.1982760429382324\n",
      "Epoch: 3900 Loss: 2.198235034942627\n",
      "Epoch: 4000 Loss: 2.1981961727142334\n",
      "Epoch: 4100 Loss: 2.19815993309021\n",
      "Epoch: 4200 Loss: 2.1981239318847656\n",
      "Epoch: 4300 Loss: 2.1980865001678467\n",
      "Epoch: 4400 Loss: 2.1980438232421875\n",
      "Epoch: 4500 Loss: 2.1979808807373047\n",
      "Epoch: 4600 Loss: 2.1978261470794678\n",
      "Epoch: 4700 Loss: 2.1966640949249268\n",
      "Epoch: 4800 Loss: 2.195129871368408\n",
      "Epoch: 4900 Loss: 2.1948306560516357\n",
      "Epoch: 5000 Loss: 2.194683790206909\n",
      "Epoch: 5100 Loss: 2.194589138031006\n",
      "Epoch: 5200 Loss: 2.19452166557312\n",
      "Epoch: 5300 Loss: 2.1944713592529297\n",
      "Epoch: 5400 Loss: 2.1944315433502197\n",
      "Epoch: 5500 Loss: 2.19439959526062\n",
      "Epoch: 5600 Loss: 2.1943728923797607\n",
      "Epoch: 5700 Loss: 2.1943507194519043\n",
      "Epoch: 5800 Loss: 2.194331407546997\n",
      "Epoch: 5900 Loss: 2.194314956665039\n",
      "Epoch: 6000 Loss: 2.1942996978759766\n",
      "Epoch: 6100 Loss: 2.1942873001098633\n",
      "Epoch: 6200 Loss: 2.194275379180908\n",
      "Epoch: 6300 Loss: 2.194265127182007\n",
      "Epoch: 6400 Loss: 2.1942551136016846\n",
      "Epoch: 6500 Loss: 2.194246530532837\n",
      "Epoch: 6600 Loss: 2.1942389011383057\n",
      "Epoch: 6700 Loss: 2.1942310333251953\n",
      "Epoch: 6800 Loss: 2.1942248344421387\n",
      "Epoch: 6900 Loss: 2.194218635559082\n",
      "Epoch: 7000 Loss: 2.1942126750946045\n",
      "Epoch: 7100 Loss: 2.1942074298858643\n",
      "Epoch: 7200 Loss: 2.194201946258545\n",
      "Epoch: 7300 Loss: 2.194196939468384\n",
      "Epoch: 7400 Loss: 2.19419264793396\n",
      "Epoch: 7500 Loss: 2.194187879562378\n",
      "Epoch: 7600 Loss: 2.194183349609375\n",
      "Epoch: 7700 Loss: 2.194178342819214\n",
      "Epoch: 7800 Loss: 2.1941728591918945\n",
      "Epoch: 7900 Loss: 2.1941654682159424\n",
      "Epoch: 8000 Loss: 2.1941535472869873\n",
      "Epoch: 8100 Loss: 2.1941237449645996\n",
      "Epoch: 8200 Loss: 2.193942070007324\n",
      "Epoch: 8300 Loss: 2.1932482719421387\n",
      "Epoch: 8400 Loss: 2.1932270526885986\n",
      "Epoch: 8500 Loss: 2.1932175159454346\n",
      "Epoch: 8600 Loss: 2.1932108402252197\n",
      "Epoch: 8700 Loss: 2.193204879760742\n",
      "Epoch: 8800 Loss: 2.193199872970581\n",
      "Epoch: 8900 Loss: 2.1931958198547363\n",
      "Epoch: 9000 Loss: 2.19319224357605\n",
      "Epoch: 9100 Loss: 2.1931889057159424\n",
      "Epoch: 9200 Loss: 2.193185806274414\n",
      "Epoch: 9300 Loss: 2.193183183670044\n",
      "Epoch: 9400 Loss: 2.193180799484253\n",
      "Epoch: 9500 Loss: 2.19317889213562\n",
      "Epoch: 9600 Loss: 2.1931769847869873\n",
      "Epoch: 9700 Loss: 2.1931750774383545\n",
      "Epoch: 9800 Loss: 2.193173885345459\n",
      "Epoch: 9900 Loss: 2.193171739578247\n"
     ]
    }
   ],
   "source": [
    "# Define the hyperparameters and data\n",
    "vocab_size = len(one_hot_data[0])\n",
    "embed_size = 2\n",
    "\n",
    "X = torch.Tensor(X)\n",
    "Y = torch.Tensor(Y)\n",
    "\n",
    "\n",
    "model = nn.Sequential(\n",
    "    nn.Linear(vocab_size, embed_size),\n",
    "    nn.Linear(embed_size, vocab_size),\n",
    "    nn.Softmax(dim=1)\n",
    ")\n",
    "\n",
    "# Name the layers\n",
    "model[0].name = 'InputLayer'\n",
    "model[1].name = 'EmbeddingLayer'\n",
    "model[2].name = 'OutputLayer'\n",
    "\n",
    "# Define the loss function and optimizer\n",
    "criterion = nn.CrossEntropyLoss()\n",
    "optimizer = optim.Adam(model.parameters(), lr=0.001)\n",
    "\n",
    "# Train the network\n",
    "for epoch in range(10000):\n",
    "    optimizer.zero_grad()\n",
    "    output = model(X)\n",
    "    loss = criterion(output, Y.argmax(dim=1))\n",
    "    loss.backward()\n",
    "    optimizer.step()\n",
    "\n",
    "    if epoch % 100 == 0:\n",
    "        print('Epoch:', epoch, 'Loss:', loss.item())\n",
    "\n"
   ]
  },
  {
   "cell_type": "code",
   "execution_count": 73,
   "metadata": {},
   "outputs": [
    {
     "name": "stdout",
     "output_type": "stream",
     "text": [
      "[[-1.591058   -1.6452142 ]\n",
      " [-0.44071564  1.4957916 ]\n",
      " [-1.1993992   0.6681921 ]\n",
      " [-0.8288107   0.45988327]\n",
      " [ 1.1267551   1.2082791 ]\n",
      " [-0.7340879   0.8600551 ]\n",
      " [ 1.3040329  -1.3505223 ]\n",
      " [-0.14328146 -0.6124203 ]\n",
      " [-1.3309124  -0.17090087]\n",
      " [-1.0760014   0.48257232]\n",
      " [-0.13980298  1.0385613 ]\n",
      " [-1.1768382  -0.7806783 ]]\n"
     ]
    }
   ],
   "source": [
    "# Get the weights of the embedding layer\n",
    "embedding_layer_weights = model[1].state_dict()['weight'].numpy()\n",
    "print(embedding_layer_weights)\n"
   ]
  },
  {
   "cell_type": "code",
   "execution_count": 80,
   "metadata": {},
   "outputs": [
    {
     "data": {
      "text/plain": [
       "{'beautiful': array([-1.591058 , -1.6452142], dtype=float32),\n",
       " 'boy': array([-0.44071564,  1.4957916 ], dtype=float32),\n",
       " 'daughter': array([-1.1993992,  0.6681921], dtype=float32),\n",
       " 'future': array([-0.8288107 ,  0.45988327], dtype=float32),\n",
       " 'king': array([1.1267551, 1.2082791], dtype=float32),\n",
       " 'man': array([-0.7340879,  0.8600551], dtype=float32),\n",
       " 'prince': array([ 1.3040329, -1.3505223], dtype=float32),\n",
       " 'princess': array([-0.14328146, -0.6124203 ], dtype=float32),\n",
       " 'queen': array([-1.3309124 , -0.17090087], dtype=float32),\n",
       " 'son': array([-1.0760014 ,  0.48257232], dtype=float32),\n",
       " 'strong': array([-0.13980298,  1.0385613 ], dtype=float32),\n",
       " 'woman': array([-1.1768382, -0.7806783], dtype=float32)}"
      ]
     },
     "execution_count": 80,
     "metadata": {},
     "output_type": "execute_result"
    }
   ],
   "source": [
    "word_embeddings_dict = {}\n",
    "\n",
    "for word in words:\n",
    "    word_embeddings_dict[word] = embedding_layer_weights[words_dict[word]]\n",
    "\n",
    "word_embeddings_dict"
   ]
  },
  {
   "cell_type": "code",
   "execution_count": 76,
   "metadata": {},
   "outputs": [],
   "source": [
    "## Plot a graph"
   ]
  },
  {
   "cell_type": "code",
   "execution_count": 81,
   "metadata": {},
   "outputs": [
    {
     "data": {
      "image/png": "[encoded data removed]",
      "text/plain": [
       "<Figure size 640x480 with 1 Axes>"
      ]
     },
     "metadata": {},
     "output_type": "display_data"
    }
   ],
   "source": [
    "for word in words:\n",
    "    coordinates = word_embeddings_dict[word]\n",
    "    plt.scatter(coordinates[0], coordinates[1])\n",
    "    plt.annotate(word, (coordinates[0], coordinates[1]))"
   ]
  },
  {
   "cell_type": "code",
   "execution_count": 89,
   "metadata": {},
   "outputs": [
    {
     "name": "stdout",
     "output_type": "stream",
     "text": [
      "0 1\n",
      "the lazy\n",
      "0 2\n",
      "the quick\n",
      "1 0\n",
      "quick brown\n",
      "1 2\n",
      "quick the\n",
      "1 3\n",
      "quick brown\n",
      "2 0\n",
      "brown fox\n",
      "2 1\n",
      "brown the\n",
      "2 3\n",
      "brown quick\n",
      "2 4\n",
      "brown fox\n",
      "3 1\n",
      "fox jumps\n",
      "3 2\n",
      "fox quick\n",
      "3 4\n",
      "fox brown\n",
      "3 5\n",
      "fox jumps\n",
      "4 2\n",
      "jumps over\n",
      "4 3\n",
      "jumps brown\n",
      "4 5\n",
      "jumps fox\n",
      "4 6\n",
      "jumps over\n",
      "5 3\n",
      "over the\n",
      "5 4\n",
      "over fox\n",
      "5 6\n",
      "over jumps\n",
      "5 7\n",
      "over the\n",
      "6 4\n",
      "the lazy\n",
      "6 5\n",
      "the jumps\n",
      "6 7\n",
      "the over\n",
      "6 8\n",
      "the lazy\n",
      "7 5\n",
      "lazy dog\n",
      "7 6\n",
      "lazy over\n",
      "7 8\n",
      "lazy the\n",
      "8 6\n",
      "dog dog\n",
      "8 7\n",
      "dog the\n"
     ]
    },
    {
     "data": {
      "text/plain": [
       "{'brown': 0,\n",
       " 'dog': 1,\n",
       " 'fox': 2,\n",
       " 'jumps': 3,\n",
       " 'lazy': 4,\n",
       " 'over': 5,\n",
       " 'quick': 6,\n",
       " 'the': 7}"
      ]
     },
     "execution_count": 89,
     "metadata": {},
     "output_type": "execute_result"
    }
   ],
   "source": [
    "# Data Preparation\n",
    "corpus = \"the quick brown fox jumps over the lazy dog\"\n",
    "tokens = corpus.split()\n",
    "vocab = list(set(tokens))\n",
    "vocab.sort()\n",
    "vocab_size = len(vocab)\n",
    "word_to_idx = {word: i for i, word in enumerate(vocab)}\n",
    "\n",
    "# Build Training Data\n",
    "window_size = 2\n",
    "word_pairs = []\n",
    "for i in range(len(tokens)):\n",
    "    target_word = tokens[i]\n",
    "    for j in range(i - window_size, i + window_size + 1):\n",
    "        \n",
    "        if j != i and j >= 0 and j < len(tokens):\n",
    "            print(i, j)\n",
    "            print(target_word, context_word)\n",
    "            context_word = tokens[j]\n",
    "            word_pairs.append((word_to_idx[target_word], word_to_idx[context_word]))\n",
    "\n",
    "word_to_idx"
   ]
  },
  {
   "cell_type": "code",
   "execution_count": 86,
   "metadata": {},
   "outputs": [
    {
     "data": {
      "text/plain": [
       "[(7, 6),\n",
       " (7, 0),\n",
       " (6, 7),\n",
       " (6, 0),\n",
       " (6, 2),\n",
       " (0, 7),\n",
       " (0, 6),\n",
       " (0, 2),\n",
       " (0, 3),\n",
       " (2, 6),\n",
       " (2, 0),\n",
       " (2, 3),\n",
       " (2, 5),\n",
       " (3, 0),\n",
       " (3, 2),\n",
       " (3, 5),\n",
       " (3, 7),\n",
       " (5, 2),\n",
       " (5, 3),\n",
       " (5, 7),\n",
       " (5, 4),\n",
       " (7, 3),\n",
       " (7, 5),\n",
       " (7, 4),\n",
       " (7, 1),\n",
       " (4, 5),\n",
       " (4, 7),\n",
       " (4, 1),\n",
       " (1, 7),\n",
       " (1, 4)]"
      ]
     },
     "execution_count": 86,
     "metadata": {},
     "output_type": "execute_result"
    }
   ],
   "source": [
    "word_pairs"
   ]
  },
  {
   "cell_type": "code",
   "execution_count": null,
   "metadata": {},
   "outputs": [],
   "source": []
  }
 ],
 "metadata": {
  "kernelspec": {
   "display_name": "ml",
   "language": "python",
   "name": "python3"
  },
  "language_info": {
   "codemirror_mode": {
    "name": "ipython",
    "version": 3
   },
   "file_extension": ".py",
   "mimetype": "text/x-python",
   "name": "python",
   "nbconvert_exporter": "python",
   "pygments_lexer": "ipython3",
   "version": "3.10.0"
  },
  "orig_nbformat": 4
 },
 "nbformat": 4,
 "nbformat_minor": 2
}
